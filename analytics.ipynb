{
 "cells": [
  {
   "cell_type": "markdown",
   "metadata": {},
   "source": [
    "# Couchbase Analytics\n",
    "\n",
    "## Setup"
   ]
  },
  {
   "cell_type": "code",
   "execution_count": 1,
   "metadata": {},
   "outputs": [
    {
     "name": "stdout",
     "output_type": "stream",
     "text": [
      "Requirement already satisfied: pandas in /Users/yoshiyuki.kono/Documents/python_virtual/jupyter_analytics/lib/python3.8/site-packages (1.1.3)\n",
      "Requirement already satisfied: python-dateutil>=2.7.3 in /Users/yoshiyuki.kono/Documents/python_virtual/jupyter_analytics/lib/python3.8/site-packages (from pandas) (2.8.1)\n",
      "Requirement already satisfied: numpy>=1.15.4 in /Users/yoshiyuki.kono/Documents/python_virtual/jupyter_analytics/lib/python3.8/site-packages (from pandas) (1.19.2)\n",
      "Requirement already satisfied: pytz>=2017.2 in /Users/yoshiyuki.kono/Documents/python_virtual/jupyter_analytics/lib/python3.8/site-packages (from pandas) (2020.1)\n",
      "Requirement already satisfied: six>=1.5 in /Users/yoshiyuki.kono/Documents/python_virtual/jupyter_analytics/lib/python3.8/site-packages (from python-dateutil>=2.7.3->pandas) (1.15.0)\n",
      "\u001b[33mWARNING: You are using pip version 20.2.3; however, version 20.2.4 is available.\n",
      "You should consider upgrading via the '/Users/yoshiyuki.kono/Documents/python_virtual/jupyter_analytics/bin/python -m pip install --upgrade pip' command.\u001b[0m\n"
     ]
    }
   ],
   "source": [
    "!pip3 install pandas"
   ]
  },
  {
   "cell_type": "code",
   "execution_count": 2,
   "metadata": {},
   "outputs": [],
   "source": [
    "# needed for any cluster connection\n",
    "from couchbase.cluster import Cluster, ClusterOptions\n",
    "from couchbase_core.cluster import PasswordAuthenticator\n",
    "\n",
    "# needed to support SQL++ (N1QL) query\n",
    "from couchbase.cluster import QueryOptions"
   ]
  },
  {
   "cell_type": "code",
   "execution_count": 3,
   "metadata": {},
   "outputs": [],
   "source": [
    "from couchbase.exceptions import CouchbaseException\n",
    "from couchbase.cluster import AnalyticsOptions"
   ]
  },
  {
   "cell_type": "code",
   "execution_count": 4,
   "metadata": {},
   "outputs": [],
   "source": [
    "import pandas as pd\n",
    "import json"
   ]
  },
  {
   "cell_type": "code",
   "execution_count": 5,
   "metadata": {},
   "outputs": [],
   "source": [
    "user = 'Administrator'\n",
    "password = 'couchbase'\n",
    "host_url = 'couchbase://ec2-3-137-216-198.us-east-2.compute.amazonaws.com'"
   ]
  },
  {
   "cell_type": "code",
   "execution_count": 6,
   "metadata": {},
   "outputs": [],
   "source": [
    "# get a reference to our cluster\n",
    "cluster = Cluster(host_url, ClusterOptions(\n",
    "  PasswordAuthenticator(user, password)))"
   ]
  },
  {
   "cell_type": "markdown",
   "metadata": {},
   "source": [
    "## Data Service"
   ]
  },
  {
   "cell_type": "code",
   "execution_count": 7,
   "metadata": {},
   "outputs": [],
   "source": [
    "# get a reference to our bucket\n",
    "cb = cluster.bucket('travel-sample')\n",
    "# get a reference to the default collection\n",
    "cb_coll = cb.default_collection()"
   ]
  },
  {
   "cell_type": "code",
   "execution_count": 8,
   "metadata": {},
   "outputs": [],
   "source": [
    "airline = {\n",
    "  \"type\": \"airline\",\n",
    "  \"id\": 8091,\n",
    "  \"callsign\": \"CBS\",\n",
    "  \"iata\": None,\n",
    "  \"icao\": None,\n",
    "  \"name\": \"Couchbase Airways\",\n",
    "}"
   ]
  },
  {
   "cell_type": "code",
   "execution_count": 9,
   "metadata": {},
   "outputs": [],
   "source": [
    "def upsert_document(doc):\n",
    "  print(\"\\nUpsert CAS: \")\n",
    "  try:\n",
    "    # key will equal: \"airline_8091\"\n",
    "    key = doc[\"type\"] + \"_\" + str(doc[\"id\"])\n",
    "    result = cb_coll.upsert(key, doc)\n",
    "    print(result.cas)\n",
    "  except Exception as e:\n",
    "    print(e)\n",
    "# get document function\n",
    "def get_airline_by_key(key):\n",
    "  print(\"\\nGet Result: \")\n",
    "  try:\n",
    "    result = cb_coll.get(key)\n",
    "    print(result.content_as[str])\n",
    "  except Exception as e:\n",
    "    print(e)"
   ]
  },
  {
   "cell_type": "code",
   "execution_count": 10,
   "metadata": {},
   "outputs": [
    {
     "name": "stdout",
     "output_type": "stream",
     "text": [
      "\n",
      "Upsert CAS: \n",
      "<Key='airline_8091', RC=0x419[LCB_ERR_UNKNOWN_HOST (1049)], Operational Error, Results=1, C Source=(src/multiresult.c,316), Context={'status_code': 4, 'opaque': 0, 'cas': 0, 'key': 'airline_8091', 'bucket': 'travel-sample', 'collection': '', 'scope': '', 'context': '', 'ref': '', 'endpoint': '', 'type': 'KVErrorContext'}, Tracing Output={\"airline_8091\": {\"s\": \"kv:Unknown\", \"i\": 5478264718919203149, \"b\": \"travel-sample\", \"r\": \"\", \"t\": 2500000, \"debug_info\": {\"FILE\": \"src/callbacks.c\", \"FUNC\": \"dur_chain2\", \"LINE\": 747}}}>\n"
     ]
    }
   ],
   "source": [
    "upsert_document(airline)"
   ]
  },
  {
   "cell_type": "code",
   "execution_count": 11,
   "metadata": {},
   "outputs": [
    {
     "name": "stdout",
     "output_type": "stream",
     "text": [
      "\n",
      "Get Result: \n",
      "<Key='airline_8091', RC=0x419[LCB_ERR_UNKNOWN_HOST (1049)], Operational Error, Results=1, C Source=(src/multiresult.c,316), Context={'status_code': 4, 'opaque': 1, 'cas': 0, 'key': 'airline_8091', 'bucket': 'travel-sample', 'collection': '', 'scope': '', 'context': '', 'ref': '', 'endpoint': '', 'type': 'KVErrorContext'}, Tracing Output={\"airline_8091\": {\"s\": \"kv:Unknown\", \"i\": 1416953737753764543, \"b\": \"travel-sample\", \"r\": \"\", \"t\": 2500000, \"debug_info\": {\"FILE\": \"src/callbacks.c\", \"FUNC\": \"value_callback\", \"LINE\": 852}}}>\n"
     ]
    }
   ],
   "source": [
    "get_airline_by_key(\"airline_8091\")"
   ]
  },
  {
   "cell_type": "code",
   "execution_count": 12,
   "metadata": {},
   "outputs": [],
   "source": [
    "# query for new document by callsign\n",
    "def lookup_by_callsign(cs):\n",
    "  print(\"\\nLookup Result: \")\n",
    "  try:\n",
    "    sql_query = 'SELECT VALUE name FROM `travel-sample` WHERE type = \"airline\" AND callsign = $1'\n",
    "    row_iter = cluster.query(\n",
    "      sql_query,\n",
    "      QueryOptions(positional_parameters=[cs]))\n",
    "    for row in row_iter: print(row)\n",
    "  except Exception as e:\n",
    "    print(e)"
   ]
  },
  {
   "cell_type": "code",
   "execution_count": 13,
   "metadata": {},
   "outputs": [
    {
     "name": "stdout",
     "output_type": "stream",
     "text": [
      "\n",
      "Lookup Result: \n",
      "<RC=0x419[LCB_ERR_UNKNOWN_HOST (1049)], HTTP Request failed. Examine 'objextra' for full result, Results=1, C Source=(src/pycbc_http.c,212), OBJ=ViewResult<rc=0x419[LCB_ERR_UNKNOWN_HOST (1049)], value=None, http_status=1049, tracing_context=0, tracing_output=None>, Context={'first_error_code': 0, 'http_response_code': 0, 'first_error_message': '', 'statement': 'SELECT VALUE name FROM `travel-sample` WHERE type = \"airline\" AND callsign = $1', 'client_context_id': 'f735e3d43d8d094b', 'query_params': '', 'http_response_body': '', 'endpoint': 'ip-10-0-0-249.us-east-2.compute.internal:8093', 'type': 'QueryErrorContext'}, Tracing Output={\":nokey:0\": null}>\n"
     ]
    }
   ],
   "source": [
    "lookup_by_callsign(\"CBS\")"
   ]
  },
  {
   "cell_type": "markdown",
   "metadata": {},
   "source": [
    "## Analytics"
   ]
  },
  {
   "cell_type": "code",
   "execution_count": 14,
   "metadata": {},
   "outputs": [
    {
     "name": "stdout",
     "output_type": "stream",
     "text": [
      "Found row:\n",
      "{'greeting': 'hello'}\n"
     ]
    }
   ],
   "source": [
    "try:\n",
    "    result = cluster.analytics_query(\"select \\\"hello\\\" as greeting\")\n",
    "\n",
    "    for row in result.rows():\n",
    "        print(\"Found row:\")\n",
    "        print(row)\n",
    "\n",
    "    #print(\"Reported execution time: \"\n",
    "    #      + result.metaData().metrics().executionTime())\n",
    "except CouchbaseException as ex:\n",
    "    import traceback\n",
    "    traceback.print_exc()"
   ]
  },
  {
   "cell_type": "markdown",
   "metadata": {},
   "source": [
    "https://docs.couchbase.com/server/current/analytics/primer-beer.html\n",
    "\n",
    "```\n",
    " CREATE DATASET breweries ON `beer-sample` WHERE `type` = \"brewery\";\n",
    "\n",
    " CREATE DATASET beers ON `beer-sample` WHERE `type` = \"beer\";\n",
    "```\n",
    "```\n",
    "SELECT br.brewery_id, COUNT(*) AS num_beers\n",
    "FROM beers br\n",
    "/*+ hash */\n",
    "GROUP BY br.brewery_id\n",
    "HAVING COUNT(*) > 30\n",
    "ORDER BY COUNT(*) DESC;\n",
    "```\n",
    "```\n",
    "SELECT bw.name,\n",
    "   COUNT(*) AS num_beers,\n",
    "   AVG(br.abv) AS abv_avg,\n",
    "   MIN(br.abv) AS abv_min,\n",
    "   MAX(br.abv) AS abv_max\n",
    "FROM breweries bw, beers br\n",
    "WHERE br.brewery_id = meta(bw).id\n",
    "GROUP BY bw.name\n",
    "ORDER BY num_beers DESC\n",
    "LIMIT 3;\n",
    "```"
   ]
  },
  {
   "cell_type": "code",
   "execution_count": 15,
   "metadata": {},
   "outputs": [],
   "source": [
    "query = \"SELECT br.brewery_id, COUNT(*) AS num_beers FROM beers br GROUP BY br.brewery_id HAVING COUNT(*) > 30 ORDER BY COUNT(*) DESC;\""
   ]
  },
  {
   "cell_type": "code",
   "execution_count": 16,
   "metadata": {},
   "outputs": [],
   "source": [
    "json_string = \"{\"\n",
    "counter = 0\n",
    "try:\n",
    "    result = cluster.analytics_query(query)\n",
    "\n",
    "    for row in result.rows():\n",
    "        if counter != 0:\n",
    "            json_string += \",\"\n",
    "        counter += 1\n",
    "        json_string += \"'\" + str(counter) + \"':\" + str(row)\n",
    "\n",
    "\n",
    "    #print(\"Reported execution time: \"\n",
    "    #      + result.metaData().metrics().executionTime())\n",
    "except CouchbaseException as ex:\n",
    "    import traceback\n",
    "    traceback.print_exc()\n",
    "json_string += \"}\""
   ]
  },
  {
   "cell_type": "code",
   "execution_count": 17,
   "metadata": {},
   "outputs": [
    {
     "data": {
      "text/plain": [
       "\"{'1':{'num_beers': 57, 'brewery_id': 'midnight_sun_brewing_co'},'2':{'num_beers': 49, 'brewery_id': 'rogue_ales'},'3':{'num_beers': 38, 'brewery_id': 'anheuser_busch'},'4':{'num_beers': 37, 'brewery_id': 'egan_brewing'},'5':{'num_beers': 37, 'brewery_id': 'troegs_brewing'},'6':{'num_beers': 36, 'brewery_id': 'boston_beer_company'},'7':{'num_beers': 34, 'brewery_id': 'f_x_matt_brewing'},'8':{'num_beers': 34, 'brewery_id': 'titletown_brewing'},'9':{'num_beers': 33, 'brewery_id': 'sierra_nevada_brewing_co'},'10':{'num_beers': 32, 'brewery_id': 'stone_brewing_co'},'11':{'num_beers': 31, 'brewery_id': 'southern_tier_brewing_co'}}\""
      ]
     },
     "execution_count": 17,
     "metadata": {},
     "output_type": "execute_result"
    }
   ],
   "source": [
    "json_string"
   ]
  },
  {
   "cell_type": "code",
   "execution_count": 18,
   "metadata": {},
   "outputs": [
    {
     "data": {
      "text/plain": [
       "[{'num_beers': 57, 'brewery_id': 'midnight_sun_brewing_co'},\n",
       " {'num_beers': 49, 'brewery_id': 'rogue_ales'},\n",
       " {'num_beers': 38, 'brewery_id': 'anheuser_busch'},\n",
       " {'num_beers': 37, 'brewery_id': 'egan_brewing'},\n",
       " {'num_beers': 37, 'brewery_id': 'troegs_brewing'},\n",
       " {'num_beers': 36, 'brewery_id': 'boston_beer_company'},\n",
       " {'num_beers': 34, 'brewery_id': 'f_x_matt_brewing'},\n",
       " {'num_beers': 34, 'brewery_id': 'titletown_brewing'},\n",
       " {'num_beers': 33, 'brewery_id': 'sierra_nevada_brewing_co'},\n",
       " {'num_beers': 32, 'brewery_id': 'stone_brewing_co'},\n",
       " {'num_beers': 31, 'brewery_id': 'southern_tier_brewing_co'}]"
      ]
     },
     "execution_count": 18,
     "metadata": {},
     "output_type": "execute_result"
    }
   ],
   "source": [
    "result.rows()"
   ]
  },
  {
   "cell_type": "code",
   "execution_count": 19,
   "metadata": {},
   "outputs": [],
   "source": [
    "s = pd.read_json(json_string.replace(\"'\", '\"'))"
   ]
  },
  {
   "cell_type": "code",
   "execution_count": 20,
   "metadata": {},
   "outputs": [
    {
     "data": {
      "text/html": [
       "<div>\n",
       "<style scoped>\n",
       "    .dataframe tbody tr th:only-of-type {\n",
       "        vertical-align: middle;\n",
       "    }\n",
       "\n",
       "    .dataframe tbody tr th {\n",
       "        vertical-align: top;\n",
       "    }\n",
       "\n",
       "    .dataframe thead th {\n",
       "        text-align: right;\n",
       "    }\n",
       "</style>\n",
       "<table border=\"1\" class=\"dataframe\">\n",
       "  <thead>\n",
       "    <tr style=\"text-align: right;\">\n",
       "      <th></th>\n",
       "      <th>num_beers</th>\n",
       "      <th>brewery_id</th>\n",
       "    </tr>\n",
       "  </thead>\n",
       "  <tbody>\n",
       "    <tr>\n",
       "      <th>1</th>\n",
       "      <td>57</td>\n",
       "      <td>midnight_sun_brewing_co</td>\n",
       "    </tr>\n",
       "    <tr>\n",
       "      <th>2</th>\n",
       "      <td>49</td>\n",
       "      <td>rogue_ales</td>\n",
       "    </tr>\n",
       "    <tr>\n",
       "      <th>3</th>\n",
       "      <td>38</td>\n",
       "      <td>anheuser_busch</td>\n",
       "    </tr>\n",
       "    <tr>\n",
       "      <th>4</th>\n",
       "      <td>37</td>\n",
       "      <td>egan_brewing</td>\n",
       "    </tr>\n",
       "    <tr>\n",
       "      <th>5</th>\n",
       "      <td>37</td>\n",
       "      <td>troegs_brewing</td>\n",
       "    </tr>\n",
       "    <tr>\n",
       "      <th>6</th>\n",
       "      <td>36</td>\n",
       "      <td>boston_beer_company</td>\n",
       "    </tr>\n",
       "    <tr>\n",
       "      <th>7</th>\n",
       "      <td>34</td>\n",
       "      <td>f_x_matt_brewing</td>\n",
       "    </tr>\n",
       "    <tr>\n",
       "      <th>8</th>\n",
       "      <td>34</td>\n",
       "      <td>titletown_brewing</td>\n",
       "    </tr>\n",
       "    <tr>\n",
       "      <th>9</th>\n",
       "      <td>33</td>\n",
       "      <td>sierra_nevada_brewing_co</td>\n",
       "    </tr>\n",
       "    <tr>\n",
       "      <th>10</th>\n",
       "      <td>32</td>\n",
       "      <td>stone_brewing_co</td>\n",
       "    </tr>\n",
       "    <tr>\n",
       "      <th>11</th>\n",
       "      <td>31</td>\n",
       "      <td>southern_tier_brewing_co</td>\n",
       "    </tr>\n",
       "  </tbody>\n",
       "</table>\n",
       "</div>"
      ],
      "text/plain": [
       "   num_beers                brewery_id\n",
       "1         57   midnight_sun_brewing_co\n",
       "2         49                rogue_ales\n",
       "3         38            anheuser_busch\n",
       "4         37              egan_brewing\n",
       "5         37            troegs_brewing\n",
       "6         36       boston_beer_company\n",
       "7         34          f_x_matt_brewing\n",
       "8         34         titletown_brewing\n",
       "9         33  sierra_nevada_brewing_co\n",
       "10        32          stone_brewing_co\n",
       "11        31  southern_tier_brewing_co"
      ]
     },
     "execution_count": 20,
     "metadata": {},
     "output_type": "execute_result"
    }
   ],
   "source": [
    "s.T"
   ]
  },
  {
   "cell_type": "code",
   "execution_count": null,
   "metadata": {},
   "outputs": [],
   "source": []
  }
 ],
 "metadata": {
  "kernelspec": {
   "display_name": "Python 3",
   "language": "python",
   "name": "python3"
  },
  "language_info": {
   "codemirror_mode": {
    "name": "ipython",
    "version": 3
   },
   "file_extension": ".py",
   "mimetype": "text/x-python",
   "name": "python",
   "nbconvert_exporter": "python",
   "pygments_lexer": "ipython3",
   "version": "3.8.5"
  }
 },
 "nbformat": 4,
 "nbformat_minor": 4
}
