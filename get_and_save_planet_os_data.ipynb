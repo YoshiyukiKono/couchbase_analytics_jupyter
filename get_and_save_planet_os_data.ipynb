{
 "cells": [
  {
   "cell_type": "markdown",
   "id": "spiritual-mobile",
   "metadata": {},
   "source": [
    "# Get and save PLANET OS data"
   ]
  },
  {
   "cell_type": "code",
   "execution_count": 1,
   "id": "northern-relation",
   "metadata": {},
   "outputs": [],
   "source": [
    "import requests\n",
    "# “noaa_gfs_global_sflux_0.12d”は気象データのID\n",
    "url = \"http://api.planetos.com/v1/datasets/noaa_gfs_global_sflux_0.12d/point\"\n",
    "querystring = {\n",
    "\"lat\":\"35.70\", # 緯度\n",
    "\"lon\":\"139.80\", # 経度,\n",
    "\"var\":\"Temperature_surface\", # 温度\n",
    "\"count\":\"500\", # データ取得数\n",
    "\"apikey\":\"xxxx\" # xxxxはアカウント設定で取得したAPIキー\n",
    "}\n",
    "response = requests.request(\"GET\", url, params=querystring )"
   ]
  },
  {
   "cell_type": "code",
   "execution_count": 5,
   "id": "plastic-roommate",
   "metadata": {},
   "outputs": [],
   "source": [
    "from couchbase_funcs import connect_couchbase\n",
    "from couchbase_funcs import upsert_document"
   ]
  },
  {
   "cell_type": "code",
   "execution_count": 6,
   "id": "stock-production",
   "metadata": {},
   "outputs": [],
   "source": [
    "DOCUMENT_ID = \"12345\"\n",
    "BUCKET_NAME = \"default\""
   ]
  },
  {
   "cell_type": "code",
   "execution_count": 7,
   "id": "surrounded-combining",
   "metadata": {},
   "outputs": [
    {
     "name": "stdout",
     "output_type": "stream",
     "text": [
      "\n",
      "Upsert CAS: \n",
      "1612416320543064064\n"
     ]
    }
   ],
   "source": [
    "cb_coll = connect_couchbase(BUCKET_NAME)\n",
    "upsert_document(cb_coll, DOCUMENT_ID, response.text)"
   ]
  },
  {
   "cell_type": "code",
   "execution_count": null,
   "id": "bibliographic-japan",
   "metadata": {},
   "outputs": [],
   "source": []
  }
 ],
 "metadata": {
  "kernelspec": {
   "display_name": "Python 3",
   "language": "python",
   "name": "python3"
  },
  "language_info": {
   "codemirror_mode": {
    "name": "ipython",
    "version": 3
   },
   "file_extension": ".py",
   "mimetype": "text/x-python",
   "name": "python",
   "nbconvert_exporter": "python",
   "pygments_lexer": "ipython3",
   "version": "3.9.0"
  }
 },
 "nbformat": 4,
 "nbformat_minor": 5
}
