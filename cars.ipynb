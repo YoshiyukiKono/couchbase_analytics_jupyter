{
 "cells": [
  {
   "cell_type": "markdown",
   "metadata": {},
   "source": [
    "# Couchbase Analytics\n",
    "\n",
    "## Setup"
   ]
  },
  {
   "cell_type": "code",
   "execution_count": 13,
   "metadata": {},
   "outputs": [],
   "source": [
    "# needed for any cluster connection\n",
    "from couchbase.cluster import Cluster, ClusterOptions\n",
    "from couchbase_core.cluster import PasswordAuthenticator\n",
    "\n",
    "# needed to support SQL++ (N1QL) query\n",
    "from couchbase.cluster import QueryOptions"
   ]
  },
  {
   "cell_type": "code",
   "execution_count": 14,
   "metadata": {},
   "outputs": [],
   "source": [
    "from couchbase.exceptions import CouchbaseException\n",
    "from couchbase.cluster import AnalyticsOptions"
   ]
  },
  {
   "cell_type": "code",
   "execution_count": 15,
   "metadata": {},
   "outputs": [],
   "source": [
    "import pandas as pd\n",
    "import json\n",
    "import os"
   ]
  },
  {
   "cell_type": "code",
   "execution_count": 16,
   "metadata": {},
   "outputs": [],
   "source": [
    "user = os.environ['CB_USER']\n",
    "password = os.environ['CB_PASSWORD']\n",
    "host_url = os.environ['CB_HOST_URL']"
   ]
  },
  {
   "cell_type": "code",
   "execution_count": 17,
   "metadata": {},
   "outputs": [],
   "source": [
    "# get a reference to our cluster\n",
    "cluster = Cluster(host_url, ClusterOptions(\n",
    "  PasswordAuthenticator(user, password)))"
   ]
  },
  {
   "cell_type": "markdown",
   "metadata": {},
   "source": [
    "## Analytics"
   ]
  },
  {
   "cell_type": "code",
   "execution_count": 25,
   "metadata": {},
   "outputs": [],
   "source": [
    "query = \"SELECT car.ModelType, COUNT(*) AS num_types FROM cars car GROUP BY car.ModelType ORDER BY COUNT(*) DESC;\""
   ]
  },
  {
   "cell_type": "code",
   "execution_count": 26,
   "metadata": {},
   "outputs": [],
   "source": [
    "json_string = \"{\"\n",
    "counter = 0\n",
    "try:\n",
    "    result = cluster.analytics_query(query)\n",
    "\n",
    "    for row in result.rows():\n",
    "        if counter != 0:\n",
    "            json_string += \",\"\n",
    "        counter += 1\n",
    "        json_string += \"'\" + str(counter) + \"':\" + str(row)\n",
    "\n",
    "except CouchbaseException as ex:\n",
    "    import traceback\n",
    "    traceback.print_exc()\n",
    "json_string += \"}\""
   ]
  },
  {
   "cell_type": "code",
   "execution_count": 27,
   "metadata": {},
   "outputs": [
    {
     "data": {
      "text/plain": [
       "\"{'1':{'num_types': 18, 'ModelType': 'Large SUV'},'2':{'num_types': 9, 'ModelType': 'Compact car'},'3':{'num_types': 9, 'ModelType': 'Convertible'},'4':{'num_types': 9, 'ModelType': 'Coupe'},'5':{'num_types': 9, 'ModelType': 'Hybrid'},'6':{'num_types': 9, 'ModelType': 'Medium SUV'},'7':{'num_types': 9, 'ModelType': 'Mid-size'},'8':{'num_types': 9, 'ModelType': 'Sports car'},'9':{'num_types': 9, 'ModelType': 'Station wagon'},'10':{'num_types': 1}}\""
      ]
     },
     "execution_count": 27,
     "metadata": {},
     "output_type": "execute_result"
    }
   ],
   "source": [
    "json_string"
   ]
  },
  {
   "cell_type": "code",
   "execution_count": 28,
   "metadata": {},
   "outputs": [
    {
     "data": {
      "text/plain": [
       "[{'num_types': 18, 'ModelType': 'Large SUV'},\n",
       " {'num_types': 9, 'ModelType': 'Compact car'},\n",
       " {'num_types': 9, 'ModelType': 'Convertible'},\n",
       " {'num_types': 9, 'ModelType': 'Coupe'},\n",
       " {'num_types': 9, 'ModelType': 'Hybrid'},\n",
       " {'num_types': 9, 'ModelType': 'Medium SUV'},\n",
       " {'num_types': 9, 'ModelType': 'Mid-size'},\n",
       " {'num_types': 9, 'ModelType': 'Sports car'},\n",
       " {'num_types': 9, 'ModelType': 'Station wagon'},\n",
       " {'num_types': 1}]"
      ]
     },
     "execution_count": 28,
     "metadata": {},
     "output_type": "execute_result"
    }
   ],
   "source": [
    "result.rows()"
   ]
  },
  {
   "cell_type": "code",
   "execution_count": 29,
   "metadata": {},
   "outputs": [],
   "source": [
    "s = pd.read_json(json_string.replace(\"'\", '\"'))"
   ]
  },
  {
   "cell_type": "code",
   "execution_count": 30,
   "metadata": {},
   "outputs": [
    {
     "data": {
      "text/html": [
       "<div>\n",
       "<style scoped>\n",
       "    .dataframe tbody tr th:only-of-type {\n",
       "        vertical-align: middle;\n",
       "    }\n",
       "\n",
       "    .dataframe tbody tr th {\n",
       "        vertical-align: top;\n",
       "    }\n",
       "\n",
       "    .dataframe thead th {\n",
       "        text-align: right;\n",
       "    }\n",
       "</style>\n",
       "<table border=\"1\" class=\"dataframe\">\n",
       "  <thead>\n",
       "    <tr style=\"text-align: right;\">\n",
       "      <th></th>\n",
       "      <th>num_types</th>\n",
       "      <th>ModelType</th>\n",
       "    </tr>\n",
       "  </thead>\n",
       "  <tbody>\n",
       "    <tr>\n",
       "      <th>1</th>\n",
       "      <td>18</td>\n",
       "      <td>Large SUV</td>\n",
       "    </tr>\n",
       "    <tr>\n",
       "      <th>2</th>\n",
       "      <td>9</td>\n",
       "      <td>Compact car</td>\n",
       "    </tr>\n",
       "    <tr>\n",
       "      <th>3</th>\n",
       "      <td>9</td>\n",
       "      <td>Convertible</td>\n",
       "    </tr>\n",
       "    <tr>\n",
       "      <th>4</th>\n",
       "      <td>9</td>\n",
       "      <td>Coupe</td>\n",
       "    </tr>\n",
       "    <tr>\n",
       "      <th>5</th>\n",
       "      <td>9</td>\n",
       "      <td>Hybrid</td>\n",
       "    </tr>\n",
       "    <tr>\n",
       "      <th>6</th>\n",
       "      <td>9</td>\n",
       "      <td>Medium SUV</td>\n",
       "    </tr>\n",
       "    <tr>\n",
       "      <th>7</th>\n",
       "      <td>9</td>\n",
       "      <td>Mid-size</td>\n",
       "    </tr>\n",
       "    <tr>\n",
       "      <th>8</th>\n",
       "      <td>9</td>\n",
       "      <td>Sports car</td>\n",
       "    </tr>\n",
       "    <tr>\n",
       "      <th>9</th>\n",
       "      <td>9</td>\n",
       "      <td>Station wagon</td>\n",
       "    </tr>\n",
       "    <tr>\n",
       "      <th>10</th>\n",
       "      <td>1</td>\n",
       "      <td>NaN</td>\n",
       "    </tr>\n",
       "  </tbody>\n",
       "</table>\n",
       "</div>"
      ],
      "text/plain": [
       "   num_types      ModelType\n",
       "1         18      Large SUV\n",
       "2          9    Compact car\n",
       "3          9    Convertible\n",
       "4          9          Coupe\n",
       "5          9         Hybrid\n",
       "6          9     Medium SUV\n",
       "7          9       Mid-size\n",
       "8          9     Sports car\n",
       "9          9  Station wagon\n",
       "10         1            NaN"
      ]
     },
     "execution_count": 30,
     "metadata": {},
     "output_type": "execute_result"
    }
   ],
   "source": [
    "s.T"
   ]
  },
  {
   "cell_type": "code",
   "execution_count": null,
   "metadata": {},
   "outputs": [],
   "source": []
  }
 ],
 "metadata": {
  "kernelspec": {
   "display_name": "Python 3",
   "language": "python",
   "name": "python3"
  },
  "language_info": {
   "codemirror_mode": {
    "name": "ipython",
    "version": 3
   },
   "file_extension": ".py",
   "mimetype": "text/x-python",
   "name": "python",
   "nbconvert_exporter": "python",
   "pygments_lexer": "ipython3",
   "version": "3.6.8"
  }
 },
 "nbformat": 4,
 "nbformat_minor": 4
}
